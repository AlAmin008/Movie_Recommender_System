{
  "nbformat": 4,
  "nbformat_minor": 0,
  "metadata": {
    "colab": {
      "provenance": []
    },
    "kernelspec": {
      "name": "python3",
      "display_name": "Python 3"
    },
    "language_info": {
      "name": "python"
    }
  },
  "cells": [
    {
      "cell_type": "code",
      "execution_count": 1,
      "metadata": {
        "colab": {
          "base_uri": "https://localhost:8080/"
        },
        "collapsed": true,
        "id": "NEZoe6Tdk2lD",
        "outputId": "70f5d33e-c7c8-4052-9054-d8c614851c8d"
      },
      "outputs": [
        {
          "output_type": "stream",
          "name": "stdout",
          "text": [
            "Collecting streamlit\n",
            "  Downloading streamlit-1.36.0-py2.py3-none-any.whl (8.6 MB)\n",
            "\u001b[2K     \u001b[90m━━━━━━━━━━━━━━━━━━━━━━━━━━━━━━━━━━━━━━━━\u001b[0m \u001b[32m8.6/8.6 MB\u001b[0m \u001b[31m17.4 MB/s\u001b[0m eta \u001b[36m0:00:00\u001b[0m\n",
            "\u001b[?25hRequirement already satisfied: altair<6,>=4.0 in /usr/local/lib/python3.10/dist-packages (from streamlit) (4.2.2)\n",
            "Requirement already satisfied: blinker<2,>=1.0.0 in /usr/lib/python3/dist-packages (from streamlit) (1.4)\n",
            "Requirement already satisfied: cachetools<6,>=4.0 in /usr/local/lib/python3.10/dist-packages (from streamlit) (5.3.3)\n",
            "Requirement already satisfied: click<9,>=7.0 in /usr/local/lib/python3.10/dist-packages (from streamlit) (8.1.7)\n",
            "Requirement already satisfied: numpy<3,>=1.20 in /usr/local/lib/python3.10/dist-packages (from streamlit) (1.25.2)\n",
            "Requirement already satisfied: packaging<25,>=20 in /usr/local/lib/python3.10/dist-packages (from streamlit) (24.1)\n",
            "Requirement already satisfied: pandas<3,>=1.3.0 in /usr/local/lib/python3.10/dist-packages (from streamlit) (2.0.3)\n",
            "Requirement already satisfied: pillow<11,>=7.1.0 in /usr/local/lib/python3.10/dist-packages (from streamlit) (9.4.0)\n",
            "Requirement already satisfied: protobuf<6,>=3.20 in /usr/local/lib/python3.10/dist-packages (from streamlit) (3.20.3)\n",
            "Requirement already satisfied: pyarrow>=7.0 in /usr/local/lib/python3.10/dist-packages (from streamlit) (14.0.2)\n",
            "Requirement already satisfied: requests<3,>=2.27 in /usr/local/lib/python3.10/dist-packages (from streamlit) (2.31.0)\n",
            "Requirement already satisfied: rich<14,>=10.14.0 in /usr/local/lib/python3.10/dist-packages (from streamlit) (13.7.1)\n",
            "Requirement already satisfied: tenacity<9,>=8.1.0 in /usr/local/lib/python3.10/dist-packages (from streamlit) (8.4.2)\n",
            "Requirement already satisfied: toml<2,>=0.10.1 in /usr/local/lib/python3.10/dist-packages (from streamlit) (0.10.2)\n",
            "Requirement already satisfied: typing-extensions<5,>=4.3.0 in /usr/local/lib/python3.10/dist-packages (from streamlit) (4.12.2)\n",
            "Collecting gitpython!=3.1.19,<4,>=3.0.7 (from streamlit)\n",
            "  Downloading GitPython-3.1.43-py3-none-any.whl (207 kB)\n",
            "\u001b[2K     \u001b[90m━━━━━━━━━━━━━━━━━━━━━━━━━━━━━━━━━━━━━━━━\u001b[0m \u001b[32m207.3/207.3 kB\u001b[0m \u001b[31m12.0 MB/s\u001b[0m eta \u001b[36m0:00:00\u001b[0m\n",
            "\u001b[?25hCollecting pydeck<1,>=0.8.0b4 (from streamlit)\n",
            "  Downloading pydeck-0.9.1-py2.py3-none-any.whl (6.9 MB)\n",
            "\u001b[2K     \u001b[90m━━━━━━━━━━━━━━━━━━━━━━━━━━━━━━━━━━━━━━━━\u001b[0m \u001b[32m6.9/6.9 MB\u001b[0m \u001b[31m16.5 MB/s\u001b[0m eta \u001b[36m0:00:00\u001b[0m\n",
            "\u001b[?25hRequirement already satisfied: tornado<7,>=6.0.3 in /usr/local/lib/python3.10/dist-packages (from streamlit) (6.3.3)\n",
            "Collecting watchdog<5,>=2.1.5 (from streamlit)\n",
            "  Downloading watchdog-4.0.1-py3-none-manylinux2014_x86_64.whl (83 kB)\n",
            "\u001b[2K     \u001b[90m━━━━━━━━━━━━━━━━━━━━━━━━━━━━━━━━━━━━━━━━\u001b[0m \u001b[32m83.0/83.0 kB\u001b[0m \u001b[31m2.9 MB/s\u001b[0m eta \u001b[36m0:00:00\u001b[0m\n",
            "\u001b[?25hRequirement already satisfied: entrypoints in /usr/local/lib/python3.10/dist-packages (from altair<6,>=4.0->streamlit) (0.4)\n",
            "Requirement already satisfied: jinja2 in /usr/local/lib/python3.10/dist-packages (from altair<6,>=4.0->streamlit) (3.1.4)\n",
            "Requirement already satisfied: jsonschema>=3.0 in /usr/local/lib/python3.10/dist-packages (from altair<6,>=4.0->streamlit) (4.19.2)\n",
            "Requirement already satisfied: toolz in /usr/local/lib/python3.10/dist-packages (from altair<6,>=4.0->streamlit) (0.12.1)\n",
            "Collecting gitdb<5,>=4.0.1 (from gitpython!=3.1.19,<4,>=3.0.7->streamlit)\n",
            "  Downloading gitdb-4.0.11-py3-none-any.whl (62 kB)\n",
            "\u001b[2K     \u001b[90m━━━━━━━━━━━━━━━━━━━━━━━━━━━━━━━━━━━━━━━━\u001b[0m \u001b[32m62.7/62.7 kB\u001b[0m \u001b[31m4.9 MB/s\u001b[0m eta \u001b[36m0:00:00\u001b[0m\n",
            "\u001b[?25hRequirement already satisfied: python-dateutil>=2.8.2 in /usr/local/lib/python3.10/dist-packages (from pandas<3,>=1.3.0->streamlit) (2.8.2)\n",
            "Requirement already satisfied: pytz>=2020.1 in /usr/local/lib/python3.10/dist-packages (from pandas<3,>=1.3.0->streamlit) (2023.4)\n",
            "Requirement already satisfied: tzdata>=2022.1 in /usr/local/lib/python3.10/dist-packages (from pandas<3,>=1.3.0->streamlit) (2024.1)\n",
            "Requirement already satisfied: charset-normalizer<4,>=2 in /usr/local/lib/python3.10/dist-packages (from requests<3,>=2.27->streamlit) (3.3.2)\n",
            "Requirement already satisfied: idna<4,>=2.5 in /usr/local/lib/python3.10/dist-packages (from requests<3,>=2.27->streamlit) (3.7)\n",
            "Requirement already satisfied: urllib3<3,>=1.21.1 in /usr/local/lib/python3.10/dist-packages (from requests<3,>=2.27->streamlit) (2.0.7)\n",
            "Requirement already satisfied: certifi>=2017.4.17 in /usr/local/lib/python3.10/dist-packages (from requests<3,>=2.27->streamlit) (2024.6.2)\n",
            "Requirement already satisfied: markdown-it-py>=2.2.0 in /usr/local/lib/python3.10/dist-packages (from rich<14,>=10.14.0->streamlit) (3.0.0)\n",
            "Requirement already satisfied: pygments<3.0.0,>=2.13.0 in /usr/local/lib/python3.10/dist-packages (from rich<14,>=10.14.0->streamlit) (2.16.1)\n",
            "Collecting smmap<6,>=3.0.1 (from gitdb<5,>=4.0.1->gitpython!=3.1.19,<4,>=3.0.7->streamlit)\n",
            "  Downloading smmap-5.0.1-py3-none-any.whl (24 kB)\n",
            "Requirement already satisfied: MarkupSafe>=2.0 in /usr/local/lib/python3.10/dist-packages (from jinja2->altair<6,>=4.0->streamlit) (2.1.5)\n",
            "Requirement already satisfied: attrs>=22.2.0 in /usr/local/lib/python3.10/dist-packages (from jsonschema>=3.0->altair<6,>=4.0->streamlit) (23.2.0)\n",
            "Requirement already satisfied: jsonschema-specifications>=2023.03.6 in /usr/local/lib/python3.10/dist-packages (from jsonschema>=3.0->altair<6,>=4.0->streamlit) (2023.12.1)\n",
            "Requirement already satisfied: referencing>=0.28.4 in /usr/local/lib/python3.10/dist-packages (from jsonschema>=3.0->altair<6,>=4.0->streamlit) (0.35.1)\n",
            "Requirement already satisfied: rpds-py>=0.7.1 in /usr/local/lib/python3.10/dist-packages (from jsonschema>=3.0->altair<6,>=4.0->streamlit) (0.18.1)\n",
            "Requirement already satisfied: mdurl~=0.1 in /usr/local/lib/python3.10/dist-packages (from markdown-it-py>=2.2.0->rich<14,>=10.14.0->streamlit) (0.1.2)\n",
            "Requirement already satisfied: six>=1.5 in /usr/local/lib/python3.10/dist-packages (from python-dateutil>=2.8.2->pandas<3,>=1.3.0->streamlit) (1.16.0)\n",
            "Installing collected packages: watchdog, smmap, pydeck, gitdb, gitpython, streamlit\n",
            "Successfully installed gitdb-4.0.11 gitpython-3.1.43 pydeck-0.9.1 smmap-5.0.1 streamlit-1.36.0 watchdog-4.0.1\n"
          ]
        }
      ],
      "source": [
        "!pip install streamlit"
      ]
    },
    {
      "cell_type": "code",
      "source": [
        "!pip install pyngrok\n"
      ],
      "metadata": {
        "colab": {
          "base_uri": "https://localhost:8080/"
        },
        "id": "rAtbFhrUk9Ni",
        "outputId": "28c0a140-0872-4d1e-aa5c-24f8a2fb8dc7",
        "collapsed": true
      },
      "execution_count": 2,
      "outputs": [
        {
          "output_type": "stream",
          "name": "stdout",
          "text": [
            "Collecting pyngrok\n",
            "  Downloading pyngrok-7.1.6-py3-none-any.whl (22 kB)\n",
            "Requirement already satisfied: PyYAML>=5.1 in /usr/local/lib/python3.10/dist-packages (from pyngrok) (6.0.1)\n",
            "Installing collected packages: pyngrok\n",
            "Successfully installed pyngrok-7.1.6\n"
          ]
        }
      ]
    },
    {
      "cell_type": "code",
      "source": [
        "from google.colab import drive\n",
        "drive.mount('/content/drive')"
      ],
      "metadata": {
        "colab": {
          "base_uri": "https://localhost:8080/"
        },
        "id": "eDL5JBoZuNeh",
        "outputId": "e7d1433b-e20c-444b-d124-9a471f5e20b6"
      },
      "execution_count": 3,
      "outputs": [
        {
          "output_type": "stream",
          "name": "stdout",
          "text": [
            "Mounted at /content/drive\n"
          ]
        }
      ]
    },
    {
      "cell_type": "code",
      "source": [
        "%%writefile app.py\n",
        "import streamlit as st\n",
        "import pickle\n",
        "import numpy as np\n",
        "import pandas as pd\n",
        "import requests\n",
        "\n",
        "def fetch_poster(movie_id):\n",
        "  response = requests.get('https://api.themoviedb.org/3/movie/{}?api_key=fac3ac674fbf79770d00576bcfe5f210'.format(movie_id))\n",
        "  data= response.json()\n",
        "  poster_path = data['poster_path']\n",
        "  return \"https://image.tmdb.org/t/p/w500/\"+poster_path\n",
        "\n",
        "def recommand(movie):\n",
        "  movie_index = movies[movies['title']==movie].index[0]\n",
        "  distances = similarity[movie_index]\n",
        "  movies_list = sorted(list(enumerate(distances)), reverse=True, key=lambda x:x[1])[1:6]\n",
        "  recommended_movies = []\n",
        "  recommended_movies_posters = []\n",
        "  for i in movies_list:\n",
        "    movie_id = movies.iloc[i[0]].id\n",
        "    recommended_movies.append(movies.iloc[i[0]].title)\n",
        "    recommended_movies_posters.append(fetch_poster(movie_id))\n",
        "  return recommended_movies,recommended_movies_posters\n",
        "\n",
        "movies_list = pickle.load(open('/content/drive/MyDrive/Movie Recommander System Files/movies.pkl','rb'))\n",
        "movies = pd.DataFrame(movies_list)\n",
        "movies_list = movies_list['title'].values\n",
        "\n",
        "similarity = pickle.load(open('/content/drive/MyDrive/Movie Recommander System Files/similarity.pkl','rb'))\n",
        "\n",
        "st.header(\"Movie Recommendation System\")\n",
        "\n",
        "selected_movie_name = st.selectbox(\n",
        "    'Type or select a movie?',\n",
        "    movies_list)\n",
        "\n",
        "if st.button('Recommend'):\n",
        "    names,posters = recommand(selected_movie_name)\n",
        "    col1, col2, col3, col4, col5 = st.columns(5)\n",
        "    with col1:\n",
        "        st.text(names[0])\n",
        "        st.image(posters[0])\n",
        "    with col2:\n",
        "        st.text(names[1])\n",
        "        st.image(posters[1])\n",
        "\n",
        "    with col3:\n",
        "        st.text(names[2])\n",
        "        st.image(posters[2])\n",
        "    with col4:\n",
        "        st.text(names[3])\n",
        "        st.image(posters[3])\n",
        "    with col5:\n",
        "        st.text(names[4])\n",
        "        st.image(posters[4])\n",
        "\n"
      ],
      "metadata": {
        "colab": {
          "base_uri": "https://localhost:8080/"
        },
        "id": "sTQlcAYdk_u5",
        "outputId": "f56adb35-d2b1-467a-f91a-dfb24067996b"
      },
      "execution_count": null,
      "outputs": [
        {
          "output_type": "stream",
          "name": "stdout",
          "text": [
            "Overwriting app.py\n"
          ]
        }
      ]
    },
    {
      "cell_type": "code",
      "source": [
        "%%writefile app.py\n",
        "\n",
        "# trying different UI\n",
        "import streamlit as st\n",
        "import pickle\n",
        "import numpy as np\n",
        "import pandas as pd\n",
        "import requests\n",
        "\n",
        "def fetch_poster(movie_id):\n",
        "  response = requests.get('https://api.themoviedb.org/3/movie/{}?api_key=fac3ac674fbf79770d00576bcfe5f210'.format(movie_id))\n",
        "  data= response.json()\n",
        "  return data\n",
        "  # poster_path = data['poster_path']\n",
        "  # return \"https://image.tmdb.org/t/p/w500/\"+poster_path\n",
        "\n",
        "def movie_info(id):\n",
        "  response = requests.get('https://api.themoviedb.org/3/movie/{}?api_key=fac3ac674fbf79770d00576bcfe5f210'.format(id))\n",
        "  data= response.json()\n",
        "  return data\n",
        "\n",
        "def cast_info(id):\n",
        "  response = requests.get('https://api.themoviedb.org/3/movie/{}/credits?api_key=fac3ac674fbf79770d00576bcfe5f210'.format(id))\n",
        "  data= response.json()\n",
        "  return data\n",
        "\n",
        "def recommand(movie):\n",
        "  movie_index = movies[movies['title']==movie].index[0]\n",
        "  distances = similarity[movie_index]\n",
        "  movies_list = sorted(list(enumerate(distances)), reverse=True, key=lambda x:x[1])[1:6]\n",
        "  recommended_movies = []\n",
        "  recommended_movies_posters = []\n",
        "  for i in movies_list:\n",
        "    movie_id = movies.iloc[i[0]].id\n",
        "    recommended_movies.append(movies.iloc[i[0]].title)\n",
        "    movie_info = fetch_poster(movie_id)\n",
        "    recommended_movies_posters.append(\"https://image.tmdb.org/t/p/w500/\"+movie_info['poster_path'])\n",
        "  return recommended_movies,recommended_movies_posters\n",
        "\n",
        "movies_list = pickle.load(open('/content/drive/MyDrive/Movie Recommander System Files/movies.pkl','rb'))\n",
        "movies = pd.DataFrame(movies_list)\n",
        "movies_list = movies_list['title'].values\n",
        "\n",
        "similarity = pickle.load(open('/content/drive/MyDrive/Movie Recommander System Files/similarity.pkl','rb'))\n",
        "\n",
        "st.header(\"Movie Recommendation System\")\n",
        "\n",
        "selected_movie_name = st.selectbox(\n",
        "    'Type or select a movie?',\n",
        "    movies_list)\n",
        "\n",
        "if st.button('Recommend'):\n",
        "    movie_id = movies.loc[movies['title'] == selected_movie_name, 'id'].values[0]\n",
        "    info = movie_info(movie_id)\n",
        "    st.markdown(f\"<h1 style='text-align: center;'>{info['title']}</h1>\", unsafe_allow_html=True)\n",
        "    # Create two columns\n",
        "    col1, col2 = st.columns(2)\n",
        "\n",
        "    # Column 1: Poster\n",
        "    with col1:\n",
        "      st.image('https://image.tmdb.org/t/p/w500/' + info['poster_path'])\n",
        "\n",
        "    # Column 2: Movie details\n",
        "    with col2:\n",
        "      genre_names = [genre['name'] for genre in info['genres']]\n",
        "      st.write(f\"**Original Title:** {info['original_title']}\")\n",
        "      st.markdown(\n",
        "    f\"\"\"\n",
        "    <style>\n",
        "    .justified-text {{\n",
        "        text-align: justify;\n",
        "    }}\n",
        "    </style>\n",
        "    <div class=\"justified-text\">\n",
        "    <strong>Overview:</strong> {info['overview']}\n",
        "    </div>\n",
        "    \"\"\",\n",
        "    unsafe_allow_html=True\n",
        "    )\n",
        "\n",
        "      st.write(f\"**Rating:** {info['vote_average']}/10({info['vote_count']} votes)\")\n",
        "      st.write(f\"**Release Date:** {info['release_date']}\")\n",
        "      st.write(f\"**Genres:** {', '.join(genre_names)}\")\n",
        "      st.write(f\"**Runtime:** {info['runtime']} min\")\n",
        "    st.markdown(f\"<h1 style='text-align: center;'>Cast</h1>\", unsafe_allow_html=True)\n",
        "    cast = cast_info(movie_id)\n",
        "    cast_info = [\n",
        "    {\n",
        "        \"name\": cast_member[\"name\"],\n",
        "        \"character\": cast_member[\"character\"],\n",
        "        \"profile_path\": 'https://image.tmdb.org/t/p/w185/'+cast_member[\"profile_path\"]\n",
        "    }\n",
        "    for cast_member in cast['cast'] if cast_member[\"profile_path\"]\n",
        "    ]\n",
        "    # Display top 5 cast members in a row\n",
        "    cols = st.columns(5)\n",
        "    for i in range(min(5, len(cast_info))):\n",
        "        cast_member = cast_info[i]\n",
        "        with cols[i]:\n",
        "            st.image(cast_member[\"profile_path\"])\n",
        "            st.write(f\"**Name:** {cast_member['name']}\")\n",
        "            st.write(f\"**Character:** {cast_member['character']}\")\n",
        "    st.header(\"Movies you may also like\")\n",
        "    names,posters = recommand(selected_movie_name)\n",
        "    col1, col2, col3, col4, col5 = st.columns(5)\n",
        "    with col1:\n",
        "        st.image(posters[0])\n",
        "        st.write(names[0])\n",
        "\n",
        "    with col2:\n",
        "        st.image(posters[1])\n",
        "        st.write(names[1])\n",
        "    with col3:\n",
        "        st.image(posters[2])\n",
        "        st.write(names[2])\n",
        "\n",
        "    with col4:\n",
        "        st.image(posters[3])\n",
        "        st.write(names[3])\n",
        "\n",
        "    with col5:\n",
        "        st.image(posters[4])\n",
        "        st.write(names[4])\n",
        "\n",
        "\n"
      ],
      "metadata": {
        "colab": {
          "base_uri": "https://localhost:8080/"
        },
        "id": "sASWCg8m8ZYS",
        "outputId": "15446d27-b3f9-47a8-f09c-c3d31465c222"
      },
      "execution_count": 38,
      "outputs": [
        {
          "output_type": "stream",
          "name": "stdout",
          "text": [
            "Overwriting app.py\n"
          ]
        }
      ]
    },
    {
      "cell_type": "code",
      "source": [
        "!streamlit run app.py & npx localtunnel --port 8501"
      ],
      "metadata": {
        "colab": {
          "base_uri": "https://localhost:8080/"
        },
        "id": "GYIQpkLNlCba",
        "outputId": "fafe3139-b405-48e9-800c-112613042a25"
      },
      "execution_count": 39,
      "outputs": [
        {
          "output_type": "stream",
          "name": "stdout",
          "text": [
            "\n",
            "Collecting usage statistics. To deactivate, set browser.gatherUsageStats to false.\n",
            "\u001b[0m\n",
            "\u001b[0m\n",
            "\u001b[34m\u001b[1m  You can now view your Streamlit app in your browser.\u001b[0m\n",
            "\u001b[0m\n",
            "\u001b[34m  Local URL: \u001b[0m\u001b[1mhttp://localhost:8501\u001b[0m\n",
            "\u001b[34m  Network URL: \u001b[0m\u001b[1mhttp://172.28.0.12:8501\u001b[0m\n",
            "\u001b[34m  External URL: \u001b[0m\u001b[1mhttp://35.234.174.249:8501\u001b[0m\n",
            "\u001b[0m\n",
            "\u001b[K\u001b[?25hnpx: installed 22 in 2.295s\n",
            "your url is: https://clever-pans-behave.loca.lt\n",
            "\u001b[34m  Stopping...\u001b[0m\n",
            "^C\n"
          ]
        }
      ]
    },
    {
      "cell_type": "code",
      "source": [
        "!curl ipecho.net/plain"
      ],
      "metadata": {
        "colab": {
          "base_uri": "https://localhost:8080/"
        },
        "id": "zEbzFWSTlEjn",
        "outputId": "ee0f5aa6-9c5e-40a4-e716-bd437630f855"
      },
      "execution_count": 6,
      "outputs": [
        {
          "output_type": "stream",
          "name": "stdout",
          "text": [
            "35.234.174.249"
          ]
        }
      ]
    },
    {
      "cell_type": "code",
      "source": [],
      "metadata": {
        "id": "cF36mZE9nH4H"
      },
      "execution_count": null,
      "outputs": []
    }
  ]
}